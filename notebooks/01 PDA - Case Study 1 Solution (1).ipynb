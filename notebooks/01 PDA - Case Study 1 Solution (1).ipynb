{
 "cells": [
  {
   "cell_type": "code",
   "execution_count": 1,
   "id": "171a68f3",
   "metadata": {},
   "outputs": [],
   "source": [
    "import pandas as pd\n",
    "import numpy as np\n",
    "import seaborn as sns\n",
    "import matplotlib.pyplot as plt\n",
    "from sklearn.linear_model import LinearRegression\n",
    "from sklearn.preprocessing import PolynomialFeatures\n",
    "from sklearn.model_selection import train_test_split\n",
    "from sklearn.metrics import r2_score\n",
    "from sklearn.compose import ColumnTransformer\n",
    "from sklearn.preprocessing import OneHotEncoder"
   ]
  },
  {
   "cell_type": "code",
   "execution_count": 2,
   "id": "7d9a39c5",
   "metadata": {},
   "outputs": [
    {
     "data": {
      "text/html": [
       "<div>\n",
       "<style scoped>\n",
       "    .dataframe tbody tr th:only-of-type {\n",
       "        vertical-align: middle;\n",
       "    }\n",
       "\n",
       "    .dataframe tbody tr th {\n",
       "        vertical-align: top;\n",
       "    }\n",
       "\n",
       "    .dataframe thead th {\n",
       "        text-align: right;\n",
       "    }\n",
       "</style>\n",
       "<table border=\"1\" class=\"dataframe\">\n",
       "  <thead>\n",
       "    <tr style=\"text-align: right;\">\n",
       "      <th></th>\n",
       "      <th>Size</th>\n",
       "      <th>Number of Bedrooms</th>\n",
       "      <th>Number of Bathrooms</th>\n",
       "      <th>Location</th>\n",
       "      <th>Age of the House</th>\n",
       "      <th>Garage Size</th>\n",
       "      <th>Sale Price</th>\n",
       "    </tr>\n",
       "  </thead>\n",
       "  <tbody>\n",
       "    <tr>\n",
       "      <th>0</th>\n",
       "      <td>3974</td>\n",
       "      <td>1</td>\n",
       "      <td>2</td>\n",
       "      <td>Countryside</td>\n",
       "      <td>81</td>\n",
       "      <td>2</td>\n",
       "      <td>594026</td>\n",
       "    </tr>\n",
       "    <tr>\n",
       "      <th>1</th>\n",
       "      <td>1660</td>\n",
       "      <td>3</td>\n",
       "      <td>2</td>\n",
       "      <td>Downtown</td>\n",
       "      <td>97</td>\n",
       "      <td>1</td>\n",
       "      <td>847135</td>\n",
       "    </tr>\n",
       "    <tr>\n",
       "      <th>2</th>\n",
       "      <td>2094</td>\n",
       "      <td>2</td>\n",
       "      <td>1</td>\n",
       "      <td>Suburb</td>\n",
       "      <td>74</td>\n",
       "      <td>3</td>\n",
       "      <td>163776</td>\n",
       "    </tr>\n",
       "    <tr>\n",
       "      <th>3</th>\n",
       "      <td>1930</td>\n",
       "      <td>2</td>\n",
       "      <td>2</td>\n",
       "      <td>Countryside</td>\n",
       "      <td>75</td>\n",
       "      <td>2</td>\n",
       "      <td>230494</td>\n",
       "    </tr>\n",
       "    <tr>\n",
       "      <th>4</th>\n",
       "      <td>1895</td>\n",
       "      <td>1</td>\n",
       "      <td>1</td>\n",
       "      <td>Downtown</td>\n",
       "      <td>48</td>\n",
       "      <td>1</td>\n",
       "      <td>242971</td>\n",
       "    </tr>\n",
       "  </tbody>\n",
       "</table>\n",
       "</div>"
      ],
      "text/plain": [
       "   Size  Number of Bedrooms  Number of Bathrooms     Location  \\\n",
       "0  3974                   1                    2  Countryside   \n",
       "1  1660                   3                    2     Downtown   \n",
       "2  2094                   2                    1       Suburb   \n",
       "3  1930                   2                    2  Countryside   \n",
       "4  1895                   1                    1     Downtown   \n",
       "\n",
       "   Age of the House  Garage Size  Sale Price  \n",
       "0                81            2      594026  \n",
       "1                97            1      847135  \n",
       "2                74            3      163776  \n",
       "3                75            2      230494  \n",
       "4                48            1      242971  "
      ]
     },
     "execution_count": 2,
     "metadata": {},
     "output_type": "execute_result"
    }
   ],
   "source": [
    "dataset = pd.read_csv('C:/Users/miant/Desktop/Python/house_prices_dataset.csv')\n",
    "dataset.head()"
   ]
  },
  {
   "cell_type": "code",
   "execution_count": 3,
   "id": "0470009f",
   "metadata": {},
   "outputs": [
    {
     "data": {
      "text/plain": [
       "Size                   0\n",
       "Number of Bedrooms     0\n",
       "Number of Bathrooms    0\n",
       "Location               0\n",
       "Age of the House       0\n",
       "Garage Size            0\n",
       "Sale Price             0\n",
       "dtype: int64"
      ]
     },
     "execution_count": 3,
     "metadata": {},
     "output_type": "execute_result"
    }
   ],
   "source": [
    "#Check how many missing values per column\n",
    "dataset.isnull().sum()"
   ]
  },
  {
   "cell_type": "code",
   "execution_count": 4,
   "id": "8e824cb2",
   "metadata": {},
   "outputs": [],
   "source": [
    "#We determine the X and y\n",
    "\n",
    "X = dataset.iloc[:, :-1].values\n",
    "y = dataset.iloc[:,-1].values\n"
   ]
  },
  {
   "cell_type": "code",
   "execution_count": 5,
   "id": "0db9bb8c",
   "metadata": {},
   "outputs": [
    {
     "data": {
      "text/plain": [
       "array([[1.0, 0.0, 0.0, ..., 2, 81, 2],\n",
       "       [0.0, 1.0, 0.0, ..., 2, 97, 1],\n",
       "       [0.0, 0.0, 1.0, ..., 1, 74, 3],\n",
       "       ...,\n",
       "       [1.0, 0.0, 0.0, ..., 2, 61, 0],\n",
       "       [0.0, 0.0, 1.0, ..., 1, 96, 2],\n",
       "       [0.0, 0.0, 1.0, ..., 3, 18, 1]], dtype=object)"
      ]
     },
     "execution_count": 5,
     "metadata": {},
     "output_type": "execute_result"
    }
   ],
   "source": [
    "#We encode the categorical variable\n",
    "\n",
    "ct = ColumnTransformer(transformers = [('encoder', OneHotEncoder(), [3])], remainder ='passthrough')\n",
    "X = np.array(ct.fit_transform(X))\n",
    "X"
   ]
  },
  {
   "cell_type": "code",
   "execution_count": 6,
   "id": "90d866fa",
   "metadata": {},
   "outputs": [],
   "source": [
    "# Splitting the data into training and testing sets\n",
    "X_train, X_test, y_train, y_test = train_test_split(X, y, test_size=0.2, random_state=0)"
   ]
  },
  {
   "cell_type": "code",
   "execution_count": 7,
   "id": "a3a724f8",
   "metadata": {},
   "outputs": [
    {
     "data": {
      "text/html": [
       "<style>#sk-container-id-1 {color: black;}#sk-container-id-1 pre{padding: 0;}#sk-container-id-1 div.sk-toggleable {background-color: white;}#sk-container-id-1 label.sk-toggleable__label {cursor: pointer;display: block;width: 100%;margin-bottom: 0;padding: 0.3em;box-sizing: border-box;text-align: center;}#sk-container-id-1 label.sk-toggleable__label-arrow:before {content: \"▸\";float: left;margin-right: 0.25em;color: #696969;}#sk-container-id-1 label.sk-toggleable__label-arrow:hover:before {color: black;}#sk-container-id-1 div.sk-estimator:hover label.sk-toggleable__label-arrow:before {color: black;}#sk-container-id-1 div.sk-toggleable__content {max-height: 0;max-width: 0;overflow: hidden;text-align: left;background-color: #f0f8ff;}#sk-container-id-1 div.sk-toggleable__content pre {margin: 0.2em;color: black;border-radius: 0.25em;background-color: #f0f8ff;}#sk-container-id-1 input.sk-toggleable__control:checked~div.sk-toggleable__content {max-height: 200px;max-width: 100%;overflow: auto;}#sk-container-id-1 input.sk-toggleable__control:checked~label.sk-toggleable__label-arrow:before {content: \"▾\";}#sk-container-id-1 div.sk-estimator input.sk-toggleable__control:checked~label.sk-toggleable__label {background-color: #d4ebff;}#sk-container-id-1 div.sk-label input.sk-toggleable__control:checked~label.sk-toggleable__label {background-color: #d4ebff;}#sk-container-id-1 input.sk-hidden--visually {border: 0;clip: rect(1px 1px 1px 1px);clip: rect(1px, 1px, 1px, 1px);height: 1px;margin: -1px;overflow: hidden;padding: 0;position: absolute;width: 1px;}#sk-container-id-1 div.sk-estimator {font-family: monospace;background-color: #f0f8ff;border: 1px dotted black;border-radius: 0.25em;box-sizing: border-box;margin-bottom: 0.5em;}#sk-container-id-1 div.sk-estimator:hover {background-color: #d4ebff;}#sk-container-id-1 div.sk-parallel-item::after {content: \"\";width: 100%;border-bottom: 1px solid gray;flex-grow: 1;}#sk-container-id-1 div.sk-label:hover label.sk-toggleable__label {background-color: #d4ebff;}#sk-container-id-1 div.sk-serial::before {content: \"\";position: absolute;border-left: 1px solid gray;box-sizing: border-box;top: 0;bottom: 0;left: 50%;z-index: 0;}#sk-container-id-1 div.sk-serial {display: flex;flex-direction: column;align-items: center;background-color: white;padding-right: 0.2em;padding-left: 0.2em;position: relative;}#sk-container-id-1 div.sk-item {position: relative;z-index: 1;}#sk-container-id-1 div.sk-parallel {display: flex;align-items: stretch;justify-content: center;background-color: white;position: relative;}#sk-container-id-1 div.sk-item::before, #sk-container-id-1 div.sk-parallel-item::before {content: \"\";position: absolute;border-left: 1px solid gray;box-sizing: border-box;top: 0;bottom: 0;left: 50%;z-index: -1;}#sk-container-id-1 div.sk-parallel-item {display: flex;flex-direction: column;z-index: 1;position: relative;background-color: white;}#sk-container-id-1 div.sk-parallel-item:first-child::after {align-self: flex-end;width: 50%;}#sk-container-id-1 div.sk-parallel-item:last-child::after {align-self: flex-start;width: 50%;}#sk-container-id-1 div.sk-parallel-item:only-child::after {width: 0;}#sk-container-id-1 div.sk-dashed-wrapped {border: 1px dashed gray;margin: 0 0.4em 0.5em 0.4em;box-sizing: border-box;padding-bottom: 0.4em;background-color: white;}#sk-container-id-1 div.sk-label label {font-family: monospace;font-weight: bold;display: inline-block;line-height: 1.2em;}#sk-container-id-1 div.sk-label-container {text-align: center;}#sk-container-id-1 div.sk-container {/* jupyter's `normalize.less` sets `[hidden] { display: none; }` but bootstrap.min.css set `[hidden] { display: none !important; }` so we also need the `!important` here to be able to override the default hidden behavior on the sphinx rendered scikit-learn.org. See: https://github.com/scikit-learn/scikit-learn/issues/21755 */display: inline-block !important;position: relative;}#sk-container-id-1 div.sk-text-repr-fallback {display: none;}</style><div id=\"sk-container-id-1\" class=\"sk-top-container\"><div class=\"sk-text-repr-fallback\"><pre>LinearRegression()</pre><b>In a Jupyter environment, please rerun this cell to show the HTML representation or trust the notebook. <br />On GitHub, the HTML representation is unable to render, please try loading this page with nbviewer.org.</b></div><div class=\"sk-container\" hidden><div class=\"sk-item\"><div class=\"sk-estimator sk-toggleable\"><input class=\"sk-toggleable__control sk-hidden--visually\" id=\"sk-estimator-id-1\" type=\"checkbox\" checked><label for=\"sk-estimator-id-1\" class=\"sk-toggleable__label sk-toggleable__label-arrow\">LinearRegression</label><div class=\"sk-toggleable__content\"><pre>LinearRegression()</pre></div></div></div></div></div>"
      ],
      "text/plain": [
       "LinearRegression()"
      ]
     },
     "execution_count": 7,
     "metadata": {},
     "output_type": "execute_result"
    }
   ],
   "source": [
    "#  Multiple Linear Regression\n",
    "model = LinearRegression()\n",
    "model.fit(X_train, y_train)"
   ]
  },
  {
   "cell_type": "code",
   "execution_count": 8,
   "id": "9868af59",
   "metadata": {},
   "outputs": [],
   "source": [
    "#Y pred\n",
    "y_pred = model.predict(X_test)"
   ]
  },
  {
   "cell_type": "code",
   "execution_count": 9,
   "id": "0f54d4d1",
   "metadata": {},
   "outputs": [
    {
     "data": {
      "text/plain": [
       "-0.038702464202095"
      ]
     },
     "execution_count": 9,
     "metadata": {},
     "output_type": "execute_result"
    }
   ],
   "source": [
    "r2_score(y_test, y_pred)"
   ]
  },
  {
   "cell_type": "code",
   "execution_count": 10,
   "id": "423222d3",
   "metadata": {},
   "outputs": [],
   "source": [
    "####### POLYNOMIAL ##############"
   ]
  },
  {
   "cell_type": "code",
   "execution_count": 11,
   "id": "39b80c73",
   "metadata": {},
   "outputs": [
    {
     "data": {
      "text/html": [
       "<style>#sk-container-id-2 {color: black;}#sk-container-id-2 pre{padding: 0;}#sk-container-id-2 div.sk-toggleable {background-color: white;}#sk-container-id-2 label.sk-toggleable__label {cursor: pointer;display: block;width: 100%;margin-bottom: 0;padding: 0.3em;box-sizing: border-box;text-align: center;}#sk-container-id-2 label.sk-toggleable__label-arrow:before {content: \"▸\";float: left;margin-right: 0.25em;color: #696969;}#sk-container-id-2 label.sk-toggleable__label-arrow:hover:before {color: black;}#sk-container-id-2 div.sk-estimator:hover label.sk-toggleable__label-arrow:before {color: black;}#sk-container-id-2 div.sk-toggleable__content {max-height: 0;max-width: 0;overflow: hidden;text-align: left;background-color: #f0f8ff;}#sk-container-id-2 div.sk-toggleable__content pre {margin: 0.2em;color: black;border-radius: 0.25em;background-color: #f0f8ff;}#sk-container-id-2 input.sk-toggleable__control:checked~div.sk-toggleable__content {max-height: 200px;max-width: 100%;overflow: auto;}#sk-container-id-2 input.sk-toggleable__control:checked~label.sk-toggleable__label-arrow:before {content: \"▾\";}#sk-container-id-2 div.sk-estimator input.sk-toggleable__control:checked~label.sk-toggleable__label {background-color: #d4ebff;}#sk-container-id-2 div.sk-label input.sk-toggleable__control:checked~label.sk-toggleable__label {background-color: #d4ebff;}#sk-container-id-2 input.sk-hidden--visually {border: 0;clip: rect(1px 1px 1px 1px);clip: rect(1px, 1px, 1px, 1px);height: 1px;margin: -1px;overflow: hidden;padding: 0;position: absolute;width: 1px;}#sk-container-id-2 div.sk-estimator {font-family: monospace;background-color: #f0f8ff;border: 1px dotted black;border-radius: 0.25em;box-sizing: border-box;margin-bottom: 0.5em;}#sk-container-id-2 div.sk-estimator:hover {background-color: #d4ebff;}#sk-container-id-2 div.sk-parallel-item::after {content: \"\";width: 100%;border-bottom: 1px solid gray;flex-grow: 1;}#sk-container-id-2 div.sk-label:hover label.sk-toggleable__label {background-color: #d4ebff;}#sk-container-id-2 div.sk-serial::before {content: \"\";position: absolute;border-left: 1px solid gray;box-sizing: border-box;top: 0;bottom: 0;left: 50%;z-index: 0;}#sk-container-id-2 div.sk-serial {display: flex;flex-direction: column;align-items: center;background-color: white;padding-right: 0.2em;padding-left: 0.2em;position: relative;}#sk-container-id-2 div.sk-item {position: relative;z-index: 1;}#sk-container-id-2 div.sk-parallel {display: flex;align-items: stretch;justify-content: center;background-color: white;position: relative;}#sk-container-id-2 div.sk-item::before, #sk-container-id-2 div.sk-parallel-item::before {content: \"\";position: absolute;border-left: 1px solid gray;box-sizing: border-box;top: 0;bottom: 0;left: 50%;z-index: -1;}#sk-container-id-2 div.sk-parallel-item {display: flex;flex-direction: column;z-index: 1;position: relative;background-color: white;}#sk-container-id-2 div.sk-parallel-item:first-child::after {align-self: flex-end;width: 50%;}#sk-container-id-2 div.sk-parallel-item:last-child::after {align-self: flex-start;width: 50%;}#sk-container-id-2 div.sk-parallel-item:only-child::after {width: 0;}#sk-container-id-2 div.sk-dashed-wrapped {border: 1px dashed gray;margin: 0 0.4em 0.5em 0.4em;box-sizing: border-box;padding-bottom: 0.4em;background-color: white;}#sk-container-id-2 div.sk-label label {font-family: monospace;font-weight: bold;display: inline-block;line-height: 1.2em;}#sk-container-id-2 div.sk-label-container {text-align: center;}#sk-container-id-2 div.sk-container {/* jupyter's `normalize.less` sets `[hidden] { display: none; }` but bootstrap.min.css set `[hidden] { display: none !important; }` so we also need the `!important` here to be able to override the default hidden behavior on the sphinx rendered scikit-learn.org. See: https://github.com/scikit-learn/scikit-learn/issues/21755 */display: inline-block !important;position: relative;}#sk-container-id-2 div.sk-text-repr-fallback {display: none;}</style><div id=\"sk-container-id-2\" class=\"sk-top-container\"><div class=\"sk-text-repr-fallback\"><pre>LinearRegression()</pre><b>In a Jupyter environment, please rerun this cell to show the HTML representation or trust the notebook. <br />On GitHub, the HTML representation is unable to render, please try loading this page with nbviewer.org.</b></div><div class=\"sk-container\" hidden><div class=\"sk-item\"><div class=\"sk-estimator sk-toggleable\"><input class=\"sk-toggleable__control sk-hidden--visually\" id=\"sk-estimator-id-2\" type=\"checkbox\" checked><label for=\"sk-estimator-id-2\" class=\"sk-toggleable__label sk-toggleable__label-arrow\">LinearRegression</label><div class=\"sk-toggleable__content\"><pre>LinearRegression()</pre></div></div></div></div></div>"
      ],
      "text/plain": [
       "LinearRegression()"
      ]
     },
     "execution_count": 11,
     "metadata": {},
     "output_type": "execute_result"
    }
   ],
   "source": [
    "# Training the Polynomial Regression model on the Training set\n",
    "poly_reg = PolynomialFeatures(degree=6)\n",
    "X_poly = poly_reg.fit_transform(X_train)\n",
    "regressor = LinearRegression()\n",
    "regressor.fit(X_poly, y_train)\n"
   ]
  },
  {
   "cell_type": "code",
   "execution_count": 12,
   "id": "29757400",
   "metadata": {},
   "outputs": [
    {
     "name": "stdout",
     "output_type": "stream",
     "text": [
      "[[ 412941.23  565249.  ]\n",
      " [ 759913.73  613634.  ]\n",
      " [ 361576.92  972056.  ]\n",
      " [ 406197.98  148064.  ]\n",
      " [ 750651.94  161462.  ]\n",
      " [ 782483.59  133384.  ]\n",
      " [ 417350.31  336073.  ]\n",
      " [ 425386.58  912605.  ]\n",
      " [ 569466.13  390414.  ]\n",
      " [ 399322.48  984550.  ]\n",
      " [ 943086.36  376284.  ]\n",
      " [ 540833.93  820974.  ]\n",
      " [ 775547.56  100519.  ]\n",
      " [ 615097.32  490015.  ]\n",
      " [ 457524.81  537387.  ]\n",
      " [ 393710.32  222502.  ]\n",
      " [ 362083.53  590277.  ]\n",
      " [ 885685.73  509158.  ]\n",
      " [ 516416.34  286371.  ]\n",
      " [ 533282.22  936788.  ]\n",
      " [ 578940.41  645376.  ]\n",
      " [ 793964.98  513685.  ]\n",
      " [ 617492.75  906874.  ]\n",
      " [ 314043.96  407776.  ]\n",
      " [ 443347.2   396030.  ]\n",
      " [ 619421.24  408105.  ]\n",
      " [ 538453.51  474724.  ]\n",
      " [ 220441.11  539415.  ]\n",
      " [ 614205.51  565795.  ]\n",
      " [ 476817.91  847135.  ]\n",
      " [ 490398.7   922437.  ]\n",
      " [ 550963.12  972564.  ]\n",
      " [ 695515.64  869497.  ]\n",
      " [ 504123.98  941490.  ]\n",
      " [ 520965.48  359509.  ]\n",
      " [ 403821.58  680532.  ]\n",
      " [ 477976.03  992585.  ]\n",
      " [ 474552.62  528697.  ]\n",
      " [ 546597.97  994556.  ]\n",
      " [ 577752.46  331373.  ]\n",
      " [ 669693.76  845775.  ]\n",
      " [ 938324.58  382066.  ]\n",
      " [ 518314.8    93169.  ]\n",
      " [ 628608.76  904744.  ]\n",
      " [ 640142.77  340951.  ]\n",
      " [ 321262.48  185150.  ]\n",
      " [ 424124.78  282520.  ]\n",
      " [ 817156.57  482829.  ]\n",
      " [ 487451.64   93856.  ]\n",
      " [ 678807.34  684151.  ]\n",
      " [ 542972.56  296732.  ]\n",
      " [-425652.84  624887.  ]\n",
      " [1079559.05  739129.  ]\n",
      " [ 675154.24  204599.  ]\n",
      " [-466612.74  717614.  ]\n",
      " [ 563579.53  801209.  ]\n",
      " [ 679915.46  874516.  ]\n",
      " [ 597470.75  239073.  ]\n",
      " [ 552652.85  910661.  ]\n",
      " [ 501957.52  492244.  ]\n",
      " [ 790337.9   140417.  ]\n",
      " [ 759211.44  101033.  ]\n",
      " [ 865519.43  266750.  ]\n",
      " [ 468842.41   74042.  ]\n",
      " [ 539007.71  990335.  ]\n",
      " [ 460353.76  851151.  ]\n",
      " [ 664884.71  831624.  ]\n",
      " [ 339789.92  875992.  ]\n",
      " [ 729445.41  774750.  ]\n",
      " [ 640411.47  843567.  ]\n",
      " [-113327.12  787651.  ]\n",
      " [ 275243.    559668.  ]\n",
      " [ 564942.52  820663.  ]\n",
      " [ 471356.42  710673.  ]\n",
      " [ 517347.25  460520.  ]\n",
      " [ 443237.18  353342.  ]\n",
      " [ 741718.22  178447.  ]\n",
      " [ 552005.07  207753.  ]\n",
      " [ 285800.84  734687.  ]\n",
      " [ 840600.38  603280.  ]\n",
      " [ 812882.58  740546.  ]\n",
      " [ 490709.45  957021.  ]\n",
      " [-308220.59  732886.  ]\n",
      " [ 553465.99  411659.  ]\n",
      " [ 669641.98  695424.  ]\n",
      " [ 309372.09  486862.  ]\n",
      " [ 653035.25  643731.  ]\n",
      " [ 412963.62  441011.  ]\n",
      " [ 545776.62  831738.  ]\n",
      " [ 476500.87  936643.  ]\n",
      " [ 273197.52  983476.  ]\n",
      " [ 504928.56  660774.  ]\n",
      " [ 266991.62  408766.  ]\n",
      " [ 239744.12  891900.  ]\n",
      " [ 586453.48  684456.  ]\n",
      " [ 461244.73  381999.  ]\n",
      " [ 405461.93  750270.  ]\n",
      " [ 545778.06  637189.  ]\n",
      " [ 408721.32  665416.  ]\n",
      " [ 206653.23   95256.  ]\n",
      " [ 370277.16  840474.  ]\n",
      " [ 665831.75  542461.  ]\n",
      " [ 656832.34  879378.  ]\n",
      " [ 638118.29  894156.  ]\n",
      " [ 959391.69  476792.  ]\n",
      " [ 492381.08  491503.  ]\n",
      " [ 314970.75  353630.  ]\n",
      " [ 635821.92  642399.  ]\n",
      " [ 511070.55  767221.  ]\n",
      " [ 446848.28  715643.  ]\n",
      " [ 602834.87  330539.  ]\n",
      " [1023485.37  410215.  ]\n",
      " [ 603749.21  226355.  ]\n",
      " [ 568519.37  728525.  ]\n",
      " [ 499966.04  523288.  ]\n",
      " [ 529158.77  398844.  ]\n",
      " [ 803116.23  836719.  ]\n",
      " [ 317168.73  162138.  ]\n",
      " [ 523266.45  943877.  ]\n",
      " [1018734.58  556995.  ]\n",
      " [ 549024.19  948902.  ]\n",
      " [ 681938.87  217477.  ]\n",
      " [ 476079.78  551323.  ]\n",
      " [ 527667.98  981831.  ]\n",
      " [ 386590.34  824107.  ]\n",
      " [ 584957.27  159767.  ]\n",
      " [ 675816.59  187854.  ]\n",
      " [ 453954.2   107221.  ]\n",
      " [ 388454.71  390687.  ]\n",
      " [ 717963.19  414315.  ]\n",
      " [ 473791.46  551793.  ]\n",
      " [ 473596.43  958017.  ]\n",
      " [ 187149.19  790122.  ]\n",
      " [ 662275.06  765879.  ]\n",
      " [ 533798.75  918277.  ]\n",
      " [ 660288.2   198725.  ]\n",
      " [ 312378.03  745391.  ]\n",
      " [ 639717.15  327785.  ]\n",
      " [ 911206.52  801393.  ]\n",
      " [ 721418.75  555200.  ]\n",
      " [ 131387.55  847388.  ]\n",
      " [ 827124.33  816759.  ]\n",
      " [ 390169.37  602452.  ]\n",
      " [ 665620.25  161362.  ]\n",
      " [ 249925.59  221389.  ]\n",
      " [ 530831.21  953450.  ]\n",
      " [ 729543.42   90149.  ]\n",
      " [ 812199.84  882297.  ]\n",
      " [ 703961.41  436350.  ]\n",
      " [ 884794.94  318733.  ]\n",
      " [ 527945.52  409281.  ]\n",
      " [ 661469.91  472739.  ]\n",
      " [ 746954.67  362849.  ]\n",
      " [ 429092.56  378615.  ]\n",
      " [ 736250.69  585857.  ]\n",
      " [ 634844.3   565584.  ]\n",
      " [ 276805.1   165657.  ]\n",
      " [ 601750.13  537918.  ]\n",
      " [ 578024.06  644699.  ]\n",
      " [ 520153.49   53969.  ]\n",
      " [ 830286.97  925206.  ]\n",
      " [ 462933.35  439546.  ]\n",
      " [ 510668.68  186645.  ]\n",
      " [ 545256.17  471837.  ]\n",
      " [ 543693.12  157573.  ]\n",
      " [ 949618.49  811569.  ]\n",
      " [ 366070.23  109807.  ]\n",
      " [  19808.86  348076.  ]\n",
      " [ 502164.25  784276.  ]\n",
      " [ 532618.29  769846.  ]\n",
      " [-585459.09  832957.  ]\n",
      " [ 571147.56  922318.  ]\n",
      " [ 528897.7   830277.  ]\n",
      " [ 343599.15  974634.  ]\n",
      " [ 714986.87  328572.  ]\n",
      " [ 656429.24  422818.  ]\n",
      " [ 442321.79  710187.  ]\n",
      " [ 695272.95  250417.  ]\n",
      " [ 630517.8   463962.  ]\n",
      " [ 496374.52  284000.  ]\n",
      " [ 640729.07  241896.  ]\n",
      " [ 272188.97  526055.  ]\n",
      " [ 373842.42  917758.  ]\n",
      " [ 638878.74  633107.  ]\n",
      " [ 646332.94  362579.  ]\n",
      " [ 517435.51  656954.  ]\n",
      " [ 470683.73  128533.  ]\n",
      " [ 511531.22  903062.  ]\n",
      " [ 104810.41  283979.  ]\n",
      " [ 593526.37  722747.  ]\n",
      " [ 949853.54  723243.  ]\n",
      " [ 233345.08  758024.  ]\n",
      " [ 541740.03  459740.  ]\n",
      " [ 446757.92  979896.  ]\n",
      " [ 539711.12  463461.  ]\n",
      " [ 613064.94  401889.  ]\n",
      " [ 595774.22  500134.  ]\n",
      " [ 558244.62  985783.  ]\n",
      " [ 412675.41  529809.  ]\n",
      " [ 653230.9   652960.  ]]\n"
     ]
    }
   ],
   "source": [
    "# Predicting the Test set results\n",
    "y_pred = regressor.predict(poly_reg.transform(X_test))\n",
    "np.set_printoptions(precision=2)\n",
    "print(np.concatenate((y_pred.reshape(len(y_pred), 1), y_test.reshape(len(y_test), 1)), 1))"
   ]
  },
  {
   "cell_type": "code",
   "execution_count": 13,
   "id": "3b2def88",
   "metadata": {},
   "outputs": [
    {
     "data": {
      "text/plain": [
       "-0.9272664553570718"
      ]
     },
     "execution_count": 13,
     "metadata": {},
     "output_type": "execute_result"
    }
   ],
   "source": [
    "r2_score(y_test, y_pred)"
   ]
  }
 ],
 "metadata": {
  "kernelspec": {
   "display_name": "Python 3 (ipykernel)",
   "language": "python",
   "name": "python3"
  },
  "language_info": {
   "codemirror_mode": {
    "name": "ipython",
    "version": 3
   },
   "file_extension": ".py",
   "mimetype": "text/x-python",
   "name": "python",
   "nbconvert_exporter": "python",
   "pygments_lexer": "ipython3",
   "version": "3.11.5"
  }
 },
 "nbformat": 4,
 "nbformat_minor": 5
}
